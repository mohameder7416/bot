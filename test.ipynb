{
 "cells": [
  {
   "cell_type": "code",
   "execution_count": 1,
   "metadata": {},
   "outputs": [],
   "source": [
    "import os\n",
    "from dotenv import load_dotenv\n",
    "load_dotenv()\n",
    "secret_key = os.getenv(\"secret_key\")\n",
    "import jwt\n",
    "import datetime as dt\n",
    "from datetime import timezone\n",
    "\n",
    "\n",
    "def create_token():\n",
    "    module_name = 'bot'\n",
    "    now = dt.datetime.now(timezone.utc)\n",
    "    payload = {\n",
    "        \"iss\": module_name,\n",
    "        \"iat\": now,\n",
    "        \"exp\": now + dt.timedelta(minutes=60*2),\n",
    "        \"nbf\": now,\n",
    "        \"jti\": module_name,\n",
    "        \"sub\": module_name\n",
    "    }\n",
    "    token = jwt.encode(payload, secret_key, algorithm=\"HS256\")\n",
    "    return token\n"
   ]
  },
  {
   "cell_type": "code",
   "execution_count": 5,
   "metadata": {},
   "outputs": [
    {
     "name": "stdout",
     "output_type": "stream",
     "text": [
      "PWA_API_CRM https://crm.addstaging.com/api/v2\n"
     ]
    }
   ],
   "source": [
    "\n",
    "import sys\n",
    "sys.path.append('..')\n",
    "\n",
    "import os \n",
    "import datetime as dt\n",
    "import jwt\n",
    "import json\n",
    "import requests\n",
    "from dotenv import load_dotenv\n",
    "\n",
    "load_dotenv()\n",
    "\n",
    "PWA_API_CRM=os.getenv(\"PWA_API_CRM\")\n",
    "print(\"PWA_API_CRM\",PWA_API_CRM)\n",
    "\n",
    "lead_id_crm= 54321\n",
    "\n",
    "\n",
    "\n",
    "\n",
    "\n",
    "\n",
    "\n",
    "def make_appointment():\n",
    "    \"\"\"\n",
    "   Generate a link to make an appointment between the customer and the dealer. \n",
    "   The link  contain available time slots when the dealer is available\n",
    "    \n",
    "    \n",
    "    Returns:\n",
    "        string: A link to book the appointement.\n",
    "    \n",
    "    \n",
    "    \"\"\"\n",
    "    url = f\"{PWA_API_CRM}/appointment/link\"\n",
    "    payload = json.dumps({\n",
    "    \"lead_id\": int(lead_id_crm),\n",
    "    \"source\": \"AI Bot\"\n",
    "    })\n",
    "\n",
    "    # headers = {\n",
    "    #     \"Authorization\": f\"Bearer {BToken}\",\n",
    "    #     \"Content-Type\": \"application/json\",\n",
    "    # }\n",
    "    headers=create_token()\n",
    "    response = requests.request(\"GET\", url, headers=headers, data=payload)\n",
    "    return response.json()['result']\n",
    "\n",
    "    \n",
    "    \n"
   ]
  },
  {
   "cell_type": "code",
   "execution_count": 6,
   "metadata": {},
   "outputs": [],
   "source": [
    "import pymysql\n",
    "from pymysql import Error\n",
    "from datetime import datetime\n",
    "import os\n",
    "from dotenv import load_dotenv\n",
    "\n",
    "load_dotenv()\n",
    "\n",
    "DB_USER = os.getenv(\"DB_USER\")\n",
    "DB_PASSWORD = os.getenv(\"DB_PASSWORD\")\n",
    "DB_HOST = os.getenv(\"DB_HOST\")\n",
    "DB_PORT = int(os.getenv(\"DB_PORT\", \"3306\"))  # Default MySQL port is 3306\n",
    "DB_NAME = os.getenv(\"DB_NAME\")\n",
    "\n",
    "class DataBase:\n",
    "    # Connection to any MySQL database using HOST, USER, PASSWORD, NAME\n",
    "    def connexion(self, host=DB_HOST, user=DB_USER, password=DB_PASSWORD, database=DB_NAME, port=DB_PORT):\n",
    "        try:\n",
    "            conn = pymysql.connect(\n",
    "                host=host,\n",
    "                user=user,\n",
    "                password=password,\n",
    "                database=database,\n",
    "                port=port\n",
    "            )\n",
    "            return conn\n",
    "        except Error as e:\n",
    "            error_mes = f\"Connection function => {str(e)}\"\n",
    "            print(error_mes)\n",
    "            return None  # Return None if connection fails\n",
    "\n",
    "    # Get any value from database using a SELECT query\n",
    "    def readQuery(self, conn, query, data=None, raw=False):\n",
    "        try:\n",
    "            with conn.cursor() as cur:\n",
    "                if raw:\n",
    "                    cur.execute(query)\n",
    "                else:\n",
    "                    cur.execute(query, data if data else None)\n",
    "                rows = cur.fetchall()\n",
    "            return rows\n",
    "        except Error as e:\n",
    "            error_mes = f\"read_query function => {str(e)}\"\n",
    "            print(error_mes)\n",
    "            return []\n",
    "\n",
    "    # Insert any value in database using an INSERT query\n",
    "    def write_query(self, conn, query, data):\n",
    "        try:\n",
    "            with conn.cursor() as cursor:\n",
    "                cursor.execute(query, data)\n",
    "                conn.commit()\n",
    "                return cursor.rowcount  # Return number of affected rows\n",
    "        except Error as e:\n",
    "            error_mes = f\"write_query function => {str(e)}\"\n",
    "            print(error_mes)\n",
    "            conn.rollback()\n",
    "            return 0\n",
    "\n",
    "    # Update any table in the database with an UPDATE query\n",
    "    def update_query(self, conn, query, data):\n",
    "        return self.write_query(conn, query, data)  # Reuse write_query method\n",
    "\n",
    "    # Delete rows from a table\n",
    "    def delete_query(self, conn, query, data):\n",
    "        return self.write_query(conn, query, data)  # Reuse write_query method\n",
    "\n"
   ]
  },
  {
   "cell_type": "code",
   "execution_count": 7,
   "metadata": {},
   "outputs": [],
   "source": [
    "def load_chat_history(db, lead_id):\n",
    "    conn = db.connexion()\n",
    "    if conn:\n",
    "        try:\n",
    "            query = \"\"\"\n",
    "            SELECT prompt, result, timestamp\n",
    "            FROM conversations\n",
    "            WHERE lead_id = %s\n",
    "            ORDER BY timestamp ASC\n",
    "            \"\"\"\n",
    "            data = (lead_id,)\n",
    "            rows = db.readQuery(conn, query, data)\n",
    "            conn.close()\n",
    "            return rows\n",
    "        except Exception as e:\n",
    "            print(f\"Error loading chat history: {str(e)}\")\n",
    "            conn.close()\n",
    "            return []\n",
    "    return []"
   ]
  },
  {
   "cell_type": "code",
   "execution_count": 9,
   "metadata": {},
   "outputs": [],
   "source": [
    "db= DataBase()\n",
    "lead_id=1"
   ]
  },
  {
   "cell_type": "code",
   "execution_count": 10,
   "metadata": {},
   "outputs": [
    {
     "data": {
      "text/plain": [
       "(('i wanna contact you right now',\n",
       "  'If you would like to contact us right now, you can reach us at the following phone number: (415) 910-7127. Please feel free to call us for any assistance or inquiries you may have.',\n",
       "  datetime.datetime(2025, 2, 24, 9, 39, 28)),\n",
       " ('what is your address ?',\n",
       "  'The address you requested is 1234 Washs Street, Santa Clara, Texas, 90210. If you need further assistance or additional information, feel free to ask!',\n",
       "  datetime.datetime(2025, 2, 24, 10, 3, 31)))"
      ]
     },
     "execution_count": 10,
     "metadata": {},
     "output_type": "execute_result"
    }
   ],
   "source": [
    "load_chat_history(db,lead_id)"
   ]
  }
 ],
 "metadata": {
  "kernelspec": {
   "display_name": "Python 3",
   "language": "python",
   "name": "python3"
  },
  "language_info": {
   "codemirror_mode": {
    "name": "ipython",
    "version": 3
   },
   "file_extension": ".py",
   "mimetype": "text/x-python",
   "name": "python",
   "nbconvert_exporter": "python",
   "pygments_lexer": "ipython3",
   "version": "3.10.12"
  }
 },
 "nbformat": 4,
 "nbformat_minor": 2
}
