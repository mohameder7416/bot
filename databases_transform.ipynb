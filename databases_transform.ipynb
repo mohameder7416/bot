{
 "cells": [
  {
   "cell_type": "code",
   "execution_count": 6,
   "metadata": {},
   "outputs": [
    {
     "name": "stdout",
     "output_type": "stream",
     "text": [
      "Defaulting to user installation because normal site-packages is not writeable\n",
      "Requirement already satisfied: pymysql in /home/mohamed/.local/lib/python3.10/site-packages (1.1.1)\n"
     ]
    }
   ],
   "source": [
    "!pip install pymysql"
   ]
  },
  {
   "cell_type": "code",
   "execution_count": 7,
   "metadata": {},
   "outputs": [],
   "source": [
    "import pymysql\n",
    "from datetime import datetime\n",
    "import requests"
   ]
  },
  {
   "cell_type": "code",
   "execution_count": 8,
   "metadata": {},
   "outputs": [],
   "source": [
    "PWA_DB_HOST_V12CHAT_READ=\"preproduction-db-1-instance-1.c7nkisio0atn.us-west-2.rds.amazonaws.com\"\n",
    "PWA_DB_PORT_V12CHAT_READ=\"3306\"\n",
    "PWA_DB_DATABASE_V12CHAT_READ=\"v12_conversation\"\n",
    "PWA_DB_USERNAME_V12CHAT_READ=\"v12_conversation\"\n",
    "PWA_DB_PASSWORD_V12CHAT_READ=\"V12_c0nvers&tion_2023\"\n",
    "#############################################\n",
    "PWA_DB_HOST_V12CHAT_WRITE=\"preproduction-db-1-instance-1.c7nkisio0atn.us-west-2.rds.amazonaws.com\"\n",
    "PWA_DB_PORT_V12CHAT_WRITE=\"3306\"\n",
    "PWA_DB_DATABASE_V12CHAT_WRITE=\"v12_conversation\"\n",
    "PWA_DB_USERNAME_V12CHAT_WRITE=\"v12_conversation\"\n",
    "PWA_DB_PASSWORD_V12CHAT_WRITE=\"V12_c0nvers&tion_2023\"\n",
    "#############################################\n",
    "PWA_DB_HOST_V12_ACCOUNT_READ=\"preproduction-db-1-instance-1.c7nkisio0atn.us-west-2.rds.amazonaws.com\"\n",
    "PWA_DB_PORT_V12_ACCOUNT_READ=\"3306\"\n",
    "PWA_DB_DATABASE_V12_ACCOUNT_READ=\"v12_account\"\n",
    "PWA_DB_USERNAME_V12_ACCOUNT_READ=\"v12_account\"\n",
    "PWA_DB_PASSWORD_V12_ACCOUNT_READ=\"PHR6aHLcHx!aM6Wk\""
   ]
  },
  {
   "cell_type": "code",
   "execution_count": 9,
   "metadata": {},
   "outputs": [],
   "source": [
    "import jwt\n",
    "import datetime as dt\n",
    "import jwt\n",
    "\n",
    "import os\n",
    "from dotenv import load_dotenv\n",
    "load_dotenv()\n",
    "secret_key = str(os.getenv(\"secret_key\", \"\"))\n",
    "\n",
    "def create_token():\n",
    "    module_name = \"bot\"\n",
    "    \n",
    "    payload = {\n",
    "        \"iss\": module_name,  # Issuer\n",
    "        \"iat\": dt.datetime.utcnow(),  # Issued At\n",
    "        \"exp\": dt.datetime.utcnow() + dt.timedelta(minutes=2),  # Expiration (30 min)\n",
    "        \"nbf\": dt.datetime.utcnow(),  # Not Before\n",
    "        \"jti\": module_name,  # JWT ID\n",
    "        \"sub\": module_name  # Subject\n",
    "    }\n",
    "\n",
    "    # Encode the JWT token\n",
    "    token = jwt.encode(payload, secret_key, algorithm=\"HS256\")\n",
    "\n",
    "    # Set up headers with the JWT token\n",
    "    headers = {\n",
    "        \"Authorization\": f\"Bearer {token}\",\n",
    "        \"Content-Type\": \"application/json\",\n",
    "    }\n",
    "    \n",
    "    return headers\n",
    "\n",
    "\n",
    "def create_token():\n",
    "    module_name='bot'\n",
    "    payload = {\n",
    "        \"iss\": module_name,  # Issuer\n",
    "        \"iat\": dt.datetime.utcnow(),  # Issued At\n",
    "        \"exp\": dt.datetime.utcnow() + dt.timedelta(minutes=2),  # Expiration\n",
    "        \"nbf\": dt.datetime.utcnow(),  # Not Before\n",
    "        \"jti\": module_name,  # JWT ID\n",
    "        \"sub\": module_name  # Subject\n",
    "    }\n",
    "\n",
    "    # Encode the JWT\n",
    "    token = jwt.encode(payload, secret_key, algorithm=\"HS256\")\n",
    "\n",
    "    # Set up headers with the JWT token\n",
    "    headers = {\n",
    "        \"Authorization\": f\"Bearer {token}\",\n",
    "        \"Content-Type\": \"application/json\",\n",
    "    }\n",
    "    return headers\n"
   ]
  },
  {
   "cell_type": "code",
   "execution_count": 10,
   "metadata": {},
   "outputs": [],
   "source": [
    "import pymysql\n",
    "from datetime import datetime\n",
    "\n",
    "class DataBase:\n",
    "    # Connection to any database using HOST, USER, PASSWORD, NAME\n",
    "    def connexion(self, host, user, password, database):\n",
    "        try:\n",
    "            conn = pymysql.connect(\n",
    "                host=host,\n",
    "                user=user,\n",
    "                password=password,\n",
    "                database=database\n",
    "            )\n",
    "            return conn\n",
    "        except pymysql.Error as e:\n",
    "            error_mes = 'Connexion function => ' + str(e)\n",
    "            now = datetime.now()\n",
    "            text = f'{{\"@timestamp\":\"{now}\",\"log.level\":\"ERROR\",\"app_name\":\"Bot\",\"Channel\":\"PWA\",\"message\":\"{error_mes}\"}}'\n",
    "            print(text)  # Consider logging it to a file instead\n",
    "            return None\n",
    "\n",
    "    # Get any value from database using SELECT query\n",
    "    def readQuery(self, conn, query, data=None):\n",
    "        try:\n",
    "            with conn.cursor() as cur:\n",
    "                if data is not None:\n",
    "                    cur.execute(query, data)\n",
    "                else:\n",
    "                    cur.execute(query)\n",
    "                rows = cur.fetchall()\n",
    "            return rows\n",
    "        except pymysql.Error as e:\n",
    "            error_mes = 'readQuery function => ' + str(e)\n",
    "            now = datetime.now()\n",
    "            text = f'{{\"@timestamp\":\"{now}\",\"log.level\":\"ERROR\",\"app_name\":\"Bot\",\"Channel\":\"PWA\",\"message\":\"{error_mes}\"}}'\n",
    "            print(text)\n",
    "            return None\n",
    "\n",
    "    # Insert any value in database using INSERT query\n",
    "    def writeQuery(self, conn, query, data):\n",
    "        try:\n",
    "            with conn.cursor() as cursor:\n",
    "                resp = cursor.execute(query, data)\n",
    "                conn.commit()\n",
    "            return resp\n",
    "        except pymysql.Error as e:\n",
    "            error_mes = 'writeQuery function => ' + str(e)\n",
    "            now = datetime.now()\n",
    "            text = f'{{\"@timestamp\":\"{now}\",\"log.level\":\"ERROR\",\"app_name\":\"Bot\",\"Channel\":\"PWA\",\"message\":\"{error_mes}\"}}'\n",
    "            print(text)\n",
    "            return 0\n",
    "\n",
    "    # Update any table in database with UPDATE query\n",
    "    def updateQuery(self, conn, query, data):\n",
    "        return self.writeQuery(conn, query, data)\n",
    "\n",
    "    # Delete rows from table\n",
    "    def deleteQuery(self, conn, query, data):\n",
    "        return self.writeQuery(conn, query, data)\n",
    "\n",
    "    # Write to tracking conversation\n",
    "    def writeTracking(self, conn, data):        \n",
    "        query = \"\"\"\n",
    "        INSERT INTO tracking_conversation \n",
    "        (intent, step, understand, date_time, proposed_time, list_time, year, make, miles, vehicle_id, vehicle_name, finished, take_by_human, lead_id, dealer_id, date_without, last_response) \n",
    "        VALUES (%s, %s, %s, %s, %s, %s, %s, %s, %s, %s, %s, %s, %s, %s, %s, %s, %s)\n",
    "        \"\"\"\n",
    "        return self.writeQuery(conn, query, data)\n",
    "\n",
    "    # Write to tracking conversation SMS\n",
    "    def writeTrackingSmsBdc(self, conn, data):        \n",
    "        query = \"\"\"\n",
    "        INSERT INTO tracking_sms_conversations \n",
    "        (intent, step, date_time, proposed_time, list_time, vehicle_id, vehicle_name, lead_id, dealer_id, last_message, last_message_date, end_conversation, date_without) \n",
    "        VALUES (%s, %s, %s, %s, %s, %s, %s, %s, %s, %s, %s, %s, %s)\n",
    "        \"\"\"\n",
    "        return self.writeQuery(conn, query, data)\n"
   ]
  },
  {
   "cell_type": "code",
   "execution_count": 11,
   "metadata": {},
   "outputs": [],
   "source": [
    "db = DataBase()\n",
    "dealer_id=40255"
   ]
  },
  {
   "cell_type": "markdown",
   "metadata": {},
   "source": [
    "_shipping"
   ]
  },
  {
   "cell_type": "code",
   "execution_count": 12,
   "metadata": {},
   "outputs": [],
   "source": [
    "def _shipping(DB, dealer_id):\n",
    "    shipping = None\n",
    "    shippingQuery = \"SELECT is_shipping FROM chat_settings WHERE user_id = %s\"\n",
    "    conn_DBC = DB.connexion(\n",
    "        PWA_DB_HOST_V12CHAT_READ,\n",
    "        PWA_DB_USERNAME_V12CHAT_READ,\n",
    "        PWA_DB_PASSWORD_V12CHAT_READ,\n",
    "        PWA_DB_DATABASE_V12CHAT_READ,\n",
    "    )\n",
    "    if conn_DBC:\n",
    "        result = DB.readQuery(conn_DBC, shippingQuery, (dealer_id,))\n",
    "        if result:\n",
    "            shipping = result[0][0]\n",
    "        conn_DBC.close()  # Ensure connection is closed\n",
    "    return shipping"
   ]
  },
  {
   "cell_type": "markdown",
   "metadata": {},
   "source": [
    "dealership_name"
   ]
  },
  {
   "cell_type": "code",
   "execution_count": 13,
   "metadata": {},
   "outputs": [],
   "source": [
    "def dealership_name(DB, dealer_id):\n",
    "    dealer_name = None\n",
    "    try:\n",
    "        conn_Prod = DB.connexion(\n",
    "            PWA_DB_HOST_V12_ACCOUNT_READ,\n",
    "            PWA_DB_USERNAME_V12_ACCOUNT_READ,\n",
    "            PWA_DB_PASSWORD_V12_ACCOUNT_READ,\n",
    "            PWA_DB_DATABASE_V12_ACCOUNT_READ,\n",
    "        )\n",
    "        queryPROD = \"SELECT company_name FROM dealer_address WHERE user_id = %s\"\n",
    "        res = DB.readQuery(conn_Prod, queryPROD, dealer_id)\n",
    "        dealer_name = res[0][0]\n",
    "    except:\n",
    "        pass\n",
    "    return dealer_name"
   ]
  },
  {
   "cell_type": "markdown",
   "metadata": {},
   "source": [
    "dealer_time_zone"
   ]
  },
  {
   "cell_type": "code",
   "execution_count": 14,
   "metadata": {},
   "outputs": [],
   "source": [
    "def dealer_time_zone(DB, dealer_id):\n",
    "    query_time = \"SELECT time_zone FROM `dealer_address` WHERE user_id= %s\"\n",
    "    conn_Prod = DB.connexion(\n",
    "        PWA_DB_HOST_V12_ACCOUNT_READ,\n",
    "        PWA_DB_USERNAME_V12_ACCOUNT_READ,\n",
    "        PWA_DB_PASSWORD_V12_ACCOUNT_READ,\n",
    "        PWA_DB_DATABASE_V12_ACCOUNT_READ,\n",
    "    )\n",
    "    res_type = DB.readQuery(conn_Prod, query_time, dealer_id)\n",
    "    timeZone = res_type[0][0]\n",
    "    return timeZone"
   ]
  },
  {
   "cell_type": "markdown",
   "metadata": {},
   "source": [
    "address and link of location for dealer"
   ]
  },
  {
   "cell_type": "code",
   "execution_count": 15,
   "metadata": {},
   "outputs": [],
   "source": [
    "def address_location(DB,dealer_id):\n",
    "    conn_Prod = DB.connexion(\n",
    "        PWA_DB_HOST_V12_ACCOUNT_READ,\n",
    "        PWA_DB_USERNAME_V12_ACCOUNT_READ,\n",
    "        PWA_DB_PASSWORD_V12_ACCOUNT_READ,\n",
    "        PWA_DB_DATABASE_V12_ACCOUNT_READ,\n",
    "    )\n",
    "    queryPROD = (\n",
    "        \"SELECT  address, city, state_id, zip FROM dealer_address WHERE user_id = %s\"\n",
    "    )\n",
    "    res = DB.readQuery(conn_Prod, queryPROD, dealer_id)\n",
    "    address = res[0][0]\n",
    "    city = res[0][1]\n",
    "    state_id = res[0][2]\n",
    "    zipcode = res[0][3]\n",
    "    querystate = \"SELECT  state_name FROM states WHERE id = %s\"\n",
    "    state_res = DB.readQuery(conn_Prod, querystate, state_id)\n",
    "    state = state_res[0][0]\n",
    "    addcty = address + \",+\" + city\n",
    "    new_adress = addcty.replace(\" \",\"+\")\n",
    "    dealer_address = address + \" \" + str(city) + \" \" + str(state) + \" \" + str(zipcode)\n",
    "    link = \"https://www.google.com/maps/search/?api=1&query=\" + new_adress\n",
    "    return [dealer_address, link]"
   ]
  },
  {
   "cell_type": "markdown",
   "metadata": {},
   "source": [
    "get dealer phone"
   ]
  },
  {
   "cell_type": "code",
   "execution_count": 16,
   "metadata": {},
   "outputs": [],
   "source": [
    "def get_dealer_phone(DB, dealer_id):\n",
    "    query1 = \"SELECT `display_phone_number` FROM `chat_settings` WHERE `user_id`= %s\"\n",
    "    conn_DBC = DB.connexion(\n",
    "        PWA_DB_HOST_V12CHAT_READ,\n",
    "        PWA_DB_USERNAME_V12CHAT_READ,\n",
    "        PWA_DB_PASSWORD_V12CHAT_READ,\n",
    "        PWA_DB_DATABASE_V12CHAT_READ,\n",
    "    )\n",
    "    res_link = DB.readQuery(conn_DBC, query1, dealer_id)\n",
    "    if res_link[0][0] is not None and res_link[0][0] != \"\" and res_link[0][0] != \"null\":\n",
    "        phone = res_link[0][0]\n",
    "    else:\n",
    "        query_phone = \"SELECT cell_phone FROM `dealer_address` WHERE user_id=%s\"\n",
    "        conn_Prod = DB.connexion(\n",
    "            PWA_DB_HOST_V12_ACCOUNT_READ,\n",
    "            PWA_DB_USERNAME_V12_ACCOUNT_READ,\n",
    "            PWA_DB_PASSWORD_V12_ACCOUNT_READ,\n",
    "            PWA_DB_DATABASE_V12_ACCOUNT_READ,\n",
    "        )\n",
    "        phone_res = DB.readQuery(conn_Prod, query_phone, dealer_id)\n",
    "        phone = phone_res[0][0]\n",
    "    phone = \"(\" + phone[:3] + \") \" + phone[3:6] + \"-\" + phone[6:]\n",
    "    return phone"
   ]
  },
  {
   "cell_type": "markdown",
   "metadata": {},
   "source": [
    " get inventory url"
   ]
  },
  {
   "cell_type": "code",
   "execution_count": 17,
   "metadata": {},
   "outputs": [],
   "source": [
    "def inventory_url(DB, dealer_id):\n",
    "    query1 = \"SELECT `is_inventory_internal_link`,`external_inventory_link` FROM `chat_settings` WHERE `user_id`= %s\"\n",
    "    conn_DBC = DB.connexion(\n",
    "        PWA_DB_HOST_V12CHAT_READ,\n",
    "        PWA_DB_USERNAME_V12CHAT_READ,\n",
    "        PWA_DB_PASSWORD_V12CHAT_READ,\n",
    "        PWA_DB_DATABASE_V12CHAT_READ,\n",
    "    )\n",
    "    res_link = DB.readQuery(conn_DBC, query1, dealer_id)\n",
    "    if res_link[0][0] == 0:\n",
    "        link = res_link[0][1]\n",
    "        if link is not None:\n",
    "            return link\n",
    "    query2 = \"SELECT name FROM domain_name WHERE user_id = %s\"\n",
    "    conn_Prod = DB.connexion(\n",
    "        PWA_DB_HOST_V12_ACCOUNT_READ,\n",
    "        PWA_DB_USERNAME_V12_ACCOUNT_READ,\n",
    "        PWA_DB_PASSWORD_V12_ACCOUNT_READ,\n",
    "        PWA_DB_DATABASE_V12_ACCOUNT_READ,\n",
    "    )\n",
    "    res = DB.readQuery(conn_Prod, query2, dealer_id)\n",
    "    inventory_link = res[0][0] + \"/all-inventory\"\n",
    "    return inventory_link"
   ]
  },
  {
   "cell_type": "markdown",
   "metadata": {},
   "source": [
    "credit application link "
   ]
  },
  {
   "cell_type": "code",
   "execution_count": 18,
   "metadata": {},
   "outputs": [],
   "source": [
    "def financing_url(DB, dealer_id):\n",
    "    financing_link = None\n",
    "    financeQuery = \"SELECT is_financing, external_financing_link, is_internal_link, type_financing_id, credit_score, other_financing FROM `chat_settings` where user_id=%s\"\n",
    "    conn_DBC = DB.connexion(\n",
    "        PWA_DB_HOST_V12CHAT_READ,\n",
    "        PWA_DB_USERNAME_V12CHAT_READ,\n",
    "        PWA_DB_PASSWORD_V12CHAT_READ,\n",
    "        PWA_DB_DATABASE_V12CHAT_READ,\n",
    "    )\n",
    "    financingRes = DB.readQuery(conn_DBC, financeQuery, dealer_id)\n",
    "    is_financing = financingRes[0][0]\n",
    "    external_financing_link = financingRes[0][1]\n",
    "    is_internal_link = financingRes[0][2]\n",
    "    finance_type=financingRes[0][3]\n",
    "    credit_score=financingRes[0][4]\n",
    "    other_financing=financingRes[0][5]\n",
    "    if is_financing == 0 or is_financing == '0' :\n",
    "        return [\"This dealer not offer financing\", finance_type,credit_score, other_financing ]\n",
    "    if is_internal_link == 0 or is_internal_link == '0':\n",
    "        financing_link = external_financing_link\n",
    "    else:\n",
    "        query2 = \"SELECT name FROM domain_name WHERE user_id = %s\"\n",
    "        conn_Prod = DB.connexion(\n",
    "            PWA_DB_HOST_V12_ACCOUNT_READ,\n",
    "            PWA_DB_USERNAME_V12_ACCOUNT_READ,\n",
    "            PWA_DB_PASSWORD_V12_ACCOUNT_READ,\n",
    "            PWA_DB_DATABASE_V12_ACCOUNT_READ,\n",
    "        )\n",
    "        res = DB.readQuery(conn_Prod, query2, dealer_id)\n",
    "        financing_link = res[0][0] + \"/credit-application\"\n",
    "    return [financing_link, finance_type,credit_score, other_financing ]"
   ]
  },
  {
   "cell_type": "markdown",
   "metadata": {},
   "source": [
    "welcome message "
   ]
  },
  {
   "cell_type": "code",
   "execution_count": 19,
   "metadata": {},
   "outputs": [],
   "source": [
    "def get_welcome_message(DB, dealer_id):\n",
    "    query = \"SELECT is_custom_fbmp_message , content_custom_fbmp_message FROM `chat_settings` WHERE `user_id`=%s\"\n",
    "    conn_DBC = DB.connexion(\n",
    "        PWA_DB_HOST_V12CHAT_READ,\n",
    "        PWA_DB_USERNAME_V12CHAT_READ,\n",
    "        PWA_DB_PASSWORD_V12CHAT_READ,\n",
    "        PWA_DB_DATABASE_V12CHAT_READ,\n",
    "    )\n",
    "    welcome_msg = DB.readQuery(conn_DBC, query, dealer_id)\n",
    "    if welcome_msg[0][0] == 1 or welcome_msg[0][0] == \"1\":\n",
    "        return welcome_msg[0][1]\n",
    "    else:\n",
    "        return None"
   ]
  },
  {
   "cell_type": "markdown",
   "metadata": {},
   "source": [
    "message when informations of car not provide"
   ]
  },
  {
   "cell_type": "code",
   "execution_count": 20,
   "metadata": {},
   "outputs": [],
   "source": [
    "def message_no_informations(DB, dealer_id):\n",
    "    query = \"SELECT is_custom_no_information , content_custom_no_information\t FROM `chat_settings` WHERE `user_id`=%s\"\n",
    "    conn_DBC = DB.connexion(\n",
    "        PWA_DB_HOST_V12CHAT_READ,\n",
    "        PWA_DB_USERNAME_V12CHAT_READ,\n",
    "        PWA_DB_PASSWORD_V12CHAT_READ,\n",
    "        PWA_DB_DATABASE_V12CHAT_READ,\n",
    "    )\n",
    "    no_infos_msg = DB.readQuery(conn_DBC, query, dealer_id)\n",
    "    if no_infos_msg[0][0] == 1 or no_infos_msg[0][0] == \"1\":\n",
    "        return no_infos_msg[0][1]\n",
    "    else:\n",
    "        return None  "
   ]
  },
  {
   "cell_type": "markdown",
   "metadata": {},
   "source": [
    "get opening Hours"
   ]
  },
  {
   "cell_type": "code",
   "execution_count": 21,
   "metadata": {},
   "outputs": [],
   "source": [
    "opening_hours_url = (\n",
    "        f\"https://websites.addstaging.com/api/external_api/hours?user_id={dealer_id}\")\n",
    "headers=create_token()\n",
    "r = requests.get(opening_hours_url, headers=headers)"
   ]
  },
  {
   "cell_type": "markdown",
   "metadata": {},
   "source": [
    "get Carfax link from Api"
   ]
  },
  {
   "cell_type": "code",
   "execution_count": 22,
   "metadata": {},
   "outputs": [
    {
     "ename": "NameError",
     "evalue": "name 'VIN' is not defined",
     "output_type": "error",
     "traceback": [
      "\u001b[0;31m---------------------------------------------------------------------------\u001b[0m",
      "\u001b[0;31mNameError\u001b[0m                                 Traceback (most recent call last)",
      "Cell \u001b[0;32mIn[22], line 1\u001b[0m\n\u001b[0;32m----> 1\u001b[0m info_veh_url \u001b[38;5;241m=\u001b[39m \u001b[38;5;124mf\u001b[39m\u001b[38;5;124m\"\u001b[39m\u001b[38;5;124mhttps://inventory.addstaging.com/api/get-carfax-link?user_id=\u001b[39m\u001b[38;5;132;01m{\u001b[39;00mdealer_id\u001b[38;5;132;01m}\u001b[39;00m\u001b[38;5;124m&vin=\u001b[39m\u001b[38;5;132;01m{\u001b[39;00m\u001b[43mVIN\u001b[49m\u001b[38;5;132;01m}\u001b[39;00m\u001b[38;5;124m\"\u001b[39m\n\u001b[1;32m      2\u001b[0m headers\u001b[38;5;241m=\u001b[39mcreate_token()\n\u001b[1;32m      3\u001b[0m r \u001b[38;5;241m=\u001b[39m requests\u001b[38;5;241m.\u001b[39mget(info_veh_url,headers\u001b[38;5;241m=\u001b[39mheaders)\n",
      "\u001b[0;31mNameError\u001b[0m: name 'VIN' is not defined"
     ]
    }
   ],
   "source": [
    "info_veh_url = f\"https://inventory.addstaging.com/api/get-carfax-link?user_id={dealer_id}&vin={VIN}\"\n",
    "headers=create_token()\n",
    "r = requests.get(info_veh_url,headers=headers)"
   ]
  },
  {
   "cell_type": "markdown",
   "metadata": {},
   "source": [
    "offer_test_drive"
   ]
  },
  {
   "cell_type": "code",
   "execution_count": 23,
   "metadata": {},
   "outputs": [],
   "source": [
    "def test_drive_chat_settings(DB, dealer_id):\n",
    "    try:\n",
    "        conn_DBC = DB.connexion(\n",
    "            PWA_DB_HOST_V12CHAT_READ,\n",
    "            PWA_DB_USERNAME_V12CHAT_READ,\n",
    "            PWA_DB_PASSWORD_V12CHAT_READ,\n",
    "            PWA_DB_DATABASE_V12CHAT_READ,\n",
    "        )\n",
    "        initiedQuery = \"\"\"SELECT `offer_test_drive` FROM `chat_settings` WHERE `user_id` = %s\"\"\"\n",
    "        data=dealer_id\n",
    "        initiedRes = DB.readQuery(conn_DBC, initiedQuery, data)\n",
    "        if initiedRes[0][0]==0:\n",
    "            return False\n",
    "        return True\n",
    "    except:\n",
    "        return True"
   ]
  },
  {
   "cell_type": "markdown",
   "metadata": {},
   "source": []
  },
  {
   "cell_type": "code",
   "execution_count": 24,
   "metadata": {},
   "outputs": [],
   "source": [
    "import mysql.connector\n",
    "import requests\n",
    "import json\n",
    "\n",
    "# Assuming these functions and necessary imports are defined in a separate file\n",
    "\n",
    "# Database connection details\n",
    "DB_CONFIG = {\n",
    "    \"host\": \"172.17.0.2\",\n",
    "    \"user\": \"root\",\n",
    "    \"password\": \"admin\",\n",
    "    \"database\": \"bot\",\n",
    "    \"port\": 3306\n",
    "}\n",
    "\n",
    "def save_dealer_info(dealer_id, DB):\n",
    "    conn = mysql.connector.connect(**DB_CONFIG)\n",
    "    cursor = conn.cursor()\n",
    "\n",
    "    try:\n",
    "        # Execute all the functions\n",
    "        shipping_result = _shipping(DB, dealer_id)\n",
    "        dealer_name_result = dealership_name(DB, dealer_id)\n",
    "        time_zone = dealer_time_zone(DB, dealer_id)\n",
    "        address_result = address_location(DB, dealer_id)\n",
    "        phone = get_dealer_phone(DB, dealer_id)\n",
    "        inventory_link = inventory_url(DB, dealer_id)\n",
    "        financing_result = financing_url(DB, dealer_id)\n",
    "        welcome_message = get_welcome_message(DB, dealer_id)\n",
    "        no_info_message = message_no_informations(DB, dealer_id)\n",
    "        offers_test_drive = test_drive_chat_settings(DB, dealer_id)\n",
    "\n",
    "        # Get opening hours\n",
    "        opening_hours_url = f\"https://websites.addstaging.com/api/external_api/hours?user_id={dealer_id}\"\n",
    "        headers = create_token()\n",
    "        r = requests.get(opening_hours_url, headers=headers)\n",
    "        opening_hours = r.json() if r.status_code == 200 else None\n",
    "\n",
    "        # Truncate or modify opening_hours to fit in the column\n",
    "        if opening_hours:\n",
    "            opening_hours_str = json.dumps(opening_hours)\n",
    "            if len(opening_hours_str) > 255:  # Assuming VARCHAR(255), adjust if different\n",
    "                opening_hours_str = opening_hours_str[:252] + '...'\n",
    "        else:\n",
    "            opening_hours_str = None\n",
    "\n",
    "        # Prepare data for insertion/update\n",
    "        data = (\n",
    "            dealer_name_result,\n",
    "            address_result[0] if address_result else None,\n",
    "            phone,\n",
    "            financing_result[0] if financing_result else None,\n",
    "            inventory_link,\n",
    "            offers_test_drive,\n",
    "            welcome_message,\n",
    "            shipping_result,\n",
    "            True,  # trade_ins (always set to True)\n",
    "            opening_hours_str,\n",
    "            financing_result[0] is not None if financing_result else False,\n",
    "            financing_result[1] if financing_result else None,\n",
    "            \"strict\",  # bot_behavior (always set to \"strict\")\n",
    "            dealer_id\n",
    "        )\n",
    "\n",
    "        # Update the data\n",
    "        update_query = \"\"\"\n",
    "        UPDATE dealers_info \n",
    "        SET dealer_name = %s,\n",
    "            address = %s,\n",
    "            phone = %s,\n",
    "            credit_app_link = %s,\n",
    "            inventory_link = %s,\n",
    "            offers_test_drive = %s,\n",
    "            welcome_message = %s,\n",
    "            shipping = %s,\n",
    "            trade_ins = %s,\n",
    "            opening_hours = %s,\n",
    "            offer_finance = %s,\n",
    "            financing_type = %s,\n",
    "            bot_behavior = %s\n",
    "        WHERE dealer_id = %s\n",
    "        \"\"\"\n",
    "\n",
    "        cursor.execute(update_query, data)\n",
    "\n",
    "        if cursor.rowcount == 0:\n",
    "            # If no rows were updated, insert a new record\n",
    "            insert_query = \"\"\"\n",
    "            INSERT INTO dealers_info \n",
    "            (dealer_name, address, phone, credit_app_link, inventory_link, \n",
    "            offers_test_drive, welcome_message, shipping, trade_ins, opening_hours, \n",
    "            offer_finance, financing_type, bot_behavior, dealer_id)\n",
    "            VALUES (%s, %s, %s, %s, %s, %s, %s, %s, %s, %s, %s, %s, %s, %s)\n",
    "            \"\"\"\n",
    "            cursor.execute(insert_query, data)\n",
    "\n",
    "        conn.commit()\n",
    "        print(f\"Information for dealer {dealer_id} has been saved/updated in the database.\")\n",
    "\n",
    "    except mysql.connector.Error as err:\n",
    "        print(f\"Error: {err}\")\n",
    "        conn.rollback()\n",
    "\n",
    "    finally:\n",
    "        cursor.close()\n",
    "        conn.close()\n",
    "\n",
    "# Usage\n",
    "def main(dealer_id, DB):\n",
    "    save_dealer_info(dealer_id, DB)\n",
    "\n",
    "# Call the main function with the required parameters\n",
    "# main(your_dealer_id, your_DB_object)"
   ]
  },
  {
   "cell_type": "code",
   "execution_count": 27,
   "metadata": {},
   "outputs": [],
   "source": [
    "db = DataBase()\n",
    "dealer_id=40255"
   ]
  },
  {
   "cell_type": "code",
   "execution_count": 28,
   "metadata": {},
   "outputs": [
    {
     "name": "stdout",
     "output_type": "stream",
     "text": [
      "Information for dealer 40255 has been saved/updated in the database.\n"
     ]
    }
   ],
   "source": [
    "save_dealer_info(dealer_id, db)"
   ]
  },
  {
   "cell_type": "markdown",
   "metadata": {},
   "source": [
    "get last message in conversation of a lead"
   ]
  },
  {
   "cell_type": "code",
   "execution_count": 51,
   "metadata": {},
   "outputs": [],
   "source": [
    "##function to get last message in conversation of a lead\n",
    "def last_messages(DB, lead_id):\n",
    "    conv_id_query = \"SELECT id FROM `conversations` WHERE lead_id = %s\"\n",
    "    messages_query = \"SELECT content, is_bot, is_bdc FROM `messages` WHERE conversation_id = %s ORDER BY id DESC LIMIT 7; \"\n",
    "    conn_DBC = DB.connexion(\n",
    "        PWA_DB_HOST_V12CHAT_READ,\n",
    "        PWA_DB_USERNAME_V12CHAT_READ,\n",
    "        PWA_DB_PASSWORD_V12CHAT_READ,\n",
    "        PWA_DB_DATABASE_V12CHAT_READ,\n",
    "    )\n",
    "    conv_res = DB.readQuery(conn_DBC, conv_id_query, lead_id)\n",
    "    con_id = conv_res[0][0]\n",
    "    msg_res = DB.readQuery(conn_DBC, messages_query, con_id)\n",
    "    messages = msg_res[::-1]\n",
    "    last_mesg = \"\"\n",
    "    for msg in messages:\n",
    "        if msg[1] is not None or msg[2] is not None:\n",
    "            last_mesg += \"Bot:\" + str(msg[0]) + \"\\n\"\n",
    "        else:\n",
    "            last_mesg += \"client:\" + str(msg[0]) + \"\\n\"\n",
    "    return last_mesg\n"
   ]
  },
  {
   "cell_type": "code",
   "execution_count": 56,
   "metadata": {},
   "outputs": [
    {
     "name": "stdout",
     "output_type": "stream",
     "text": [
      "Bot:START CHAT\n",
      "Bot:Hello, thank you for contacting Car Nation. We’ve got your inquiry for 2012 VOLKSWAGEN GTI.   It is still available.  https://www.carnation-llc.com/inventory/view/17841608/2012-VOLKSWAGEN-GTI- Do you have any questions we may assist you with?\n",
      "\n"
     ]
    }
   ],
   "source": [
    "print(last_messages(db,10551))"
   ]
  }
 ],
 "metadata": {
  "kernelspec": {
   "display_name": "Python 3",
   "language": "python",
   "name": "python3"
  },
  "language_info": {
   "codemirror_mode": {
    "name": "ipython",
    "version": 3
   },
   "file_extension": ".py",
   "mimetype": "text/x-python",
   "name": "python",
   "nbconvert_exporter": "python",
   "pygments_lexer": "ipython3",
   "version": "3.10.12"
  }
 },
 "nbformat": 4,
 "nbformat_minor": 2
}
